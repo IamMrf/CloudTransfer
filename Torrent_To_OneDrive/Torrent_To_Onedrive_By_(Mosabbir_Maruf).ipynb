{
  "nbformat": 4,
  "nbformat_minor": 0,
  "metadata": {
    "colab": {
      "provenance": [],
      "collapsed_sections": [
        "bBgmZJTe4Xkj"
      ]
    },
    "kernelspec": {
      "name": "python3",
      "display_name": "Python 3"
    },
    "language_info": {
      "name": "python"
    }
  },
  "cells": [
    {
      "cell_type": "markdown",
      "metadata": {
        "id": "cJzY3hfpLwPj"
      },
      "source": [
        "# <font color='greenr'> Torrents   </font> upload to  <font color='lightblue'>OneDrive</font>\n",
        "<img src='https://www.gb-advisors.com/wp-content/uploads/2020/03/OneDrive-Logo.png' height=\"80\" />By-  <font color='red'> Mosabbir Maruf </font>\n",
        "\n"
      ]
    },
    {
      "cell_type": "markdown",
      "metadata": {
        "id": "3rEItGYsNqvm"
      },
      "source": [
        "\n",
        "\n",
        "\n",
        "<font color='RED'> Tools  </font>\n",
        "\n",
        "\n",
        "*   <font color='yellow'> Rclone </font> - download rclone in your operating system download link= https://rclone.org/downloads/\n",
        "*   <font color='yellow'> Onedrive Account  </font> (personal,business both working) no account? just signup https://signup.live.com/\n",
        "\n",
        "\n",
        "\n"
      ]
    },
    {
      "cell_type": "markdown",
      "metadata": {
        "id": "bBgmZJTe4Xkj"
      },
      "source": [
        "# 1.Install  <img src='https://biplobsd.github.io/RLabClone/img/title_rclonelab.svg' height=\"45\" alt=\"RcloneLab\"/> <img src='https://libtorrent.org/img/logo-color-text.png' height=\"45\" alt=\"RcloneLab\"/>\n",
        "\n"
      ]
    },
    {
      "cell_type": "code",
      "metadata": {
        "id": "967x0RwzyWCb",
        "colab": {
          "base_uri": "https://localhost:8080/"
        },
        "outputId": "191fea58-9ca8-448f-9968-7195af480c7d"
      },
      "source": [
        "!python -m pip install --upgrade pip setuptools wheel\n",
        "!python -m pip install lbry-libtorrent\n",
        "!wget https://downloads.rclone.org/v1.52.1/rclone-v1.52.1-linux-amd64.deb\n",
        "!apt install ./rclone-v1.52.1-linux-amd64.deb"
      ],
      "execution_count": null,
      "outputs": [
        {
          "output_type": "stream",
          "name": "stdout",
          "text": [
            "Requirement already satisfied: pip in /usr/local/lib/python3.10/dist-packages (23.3.2)\n",
            "Requirement already satisfied: setuptools in /usr/local/lib/python3.10/dist-packages (69.0.2)\n",
            "Requirement already satisfied: wheel in /usr/local/lib/python3.10/dist-packages (0.42.0)\n",
            "\u001b[33mWARNING: Running pip as the 'root' user can result in broken permissions and conflicting behaviour with the system package manager. It is recommended to use a virtual environment instead: https://pip.pypa.io/warnings/venv\u001b[0m\u001b[33m\n",
            "\u001b[0mRequirement already satisfied: lbry-libtorrent in /usr/local/lib/python3.10/dist-packages (1.2.4)\n",
            "\u001b[33mWARNING: Running pip as the 'root' user can result in broken permissions and conflicting behaviour with the system package manager. It is recommended to use a virtual environment instead: https://pip.pypa.io/warnings/venv\u001b[0m\u001b[33m\n",
            "\u001b[0m--2023-12-18 13:33:34--  https://downloads.rclone.org/v1.52.1/rclone-v1.52.1-linux-amd64.deb\n",
            "Resolving downloads.rclone.org (downloads.rclone.org)... 95.217.6.16, 2a01:4f9:c012:7154::1\n",
            "Connecting to downloads.rclone.org (downloads.rclone.org)|95.217.6.16|:443... connected.\n",
            "HTTP request sent, awaiting response... 200 OK\n",
            "Length: 13904596 (13M) [application/vnd.debian.binary-package]\n",
            "Saving to: ‘rclone-v1.52.1-linux-amd64.deb.1’\n",
            "\n",
            "rclone-v1.52.1-linu 100%[===================>]  13.26M  8.86MB/s    in 1.5s    \n",
            "\n",
            "2023-12-18 13:33:37 (8.86 MB/s) - ‘rclone-v1.52.1-linux-amd64.deb.1’ saved [13904596/13904596]\n",
            "\n",
            "Reading package lists... Done\n",
            "Building dependency tree... Done\n",
            "Reading state information... Done\n",
            "Note, selecting 'rclone' instead of './rclone-v1.52.1-linux-amd64.deb'\n",
            "rclone is already the newest version (1.52.1).\n",
            "0 upgraded, 0 newly installed, 0 to remove and 24 not upgraded.\n"
          ]
        }
      ]
    },
    {
      "cell_type": "markdown",
      "metadata": {
        "id": "IMgeaazpytxI"
      },
      "source": [
        "# 2.<font color='orange'>Authenticate One Drive </font> <img src='https://biplobsd.github.io/RLabClone/img/title_rclonelab.svg' height=\"45\" alt=\"RcloneLab\"/></font>"
      ]
    },
    {
      "cell_type": "code",
      "metadata": {
        "id": "FD9JXMdiyiFH"
      },
      "source": [
        "!rclone config      #add your onedrive"
      ],
      "execution_count": null,
      "outputs": []
    },
    {
      "cell_type": "markdown",
      "metadata": {
        "id": "CN6MG1yWPfar"
      },
      "source": [
        "<img src='https://cdn.vox-cdn.com/uploads/chorus_asset/file/12410821/Confused_Ice_Cube.0.gif' height=\"150\" />\n",
        "\n",
        "#</font> <font color='red'> CAN'T CONFIG?  </font>  follow this,\n",
        "  \n",
        "1.Type </font> <font color='red'>\"n\"  </font>        - new remote\n",
        "\n",
        "2.Type</font> <font color='red'> onedrive </font> -name\n",
        "\n",
        "3.Type </font> <font color='red'>\"23\"  </font>  -storage\n",
        "\n",
        "4.Press </font> <font color='red'> enter </font>      -client id\n",
        "\n",
        "5.Press </font> <font color='red'>enter </font>      -client secret\n",
        "\n",
        "6.Type </font> <font color='red'>\"n\"  </font>     -edit advanced no     \n",
        "    \n",
        "7.Type</font> <font color='red'>\"n\"  </font>      -auto config no\n",
        "\n",
        "8.</font> <font color='gree'>Get rclone Authenticate OneDrive Access-Code and paste and press enter. </font> </font> <font color='red'>HOW TO GET CODE? </font> See details-> https://github.com/IamMrf/CloudTransfer/blob/main/Torrent_To_OneDrive/rclone_authentication.md\n",
        "\n",
        "9.Type</font> <font color='red'>\"1\"  </font>'\n",
        "\n",
        "10.Type'</font> <font color='red'>\"0\"  </font>   \n",
        "\n",
        "11.Type</font> <font color='red'>\"y\"  </font>\n",
        "\n",
        "12.Type</font> <font color='red'>\"y\"  </font>\n",
        "\n",
        "13.Type  </font> <font color='red'>\"q\"  </font>"
      ]
    },
    {
      "cell_type": "markdown",
      "metadata": {
        "id": "eqVwKRRQycuK"
      },
      "source": [
        "# 3.Rclone<font color='yellow'>  Mount one drive <img src='https://www.gb-advisors.com/wp-content/uploads/2020/03/OneDrive-Logo.png' height=\"90\" />\n"
      ]
    },
    {
      "cell_type": "code",
      "metadata": {
        "id": "UuAga4Edymzm"
      },
      "source": [
        "!mkdir onedrive\n",
        "!nohup rclone --vfs-cache-mode writes mount onedrive: ./onedrive &"
      ],
      "execution_count": null,
      "outputs": []
    },
    {
      "cell_type": "markdown",
      "metadata": {
        "id": "RRnxqKfoD1bO"
      },
      "source": [
        "check onedrive mounted"
      ]
    },
    {
      "cell_type": "code",
      "metadata": {
        "id": "Fil_bHuAD8S3"
      },
      "source": [
        "!ls ./onedrive    #after sucessfully mounted onedrive then show your onedrive folders and files"
      ],
      "execution_count": null,
      "outputs": []
    },
    {
      "cell_type": "markdown",
      "metadata": {
        "id": "kDDLXWX5xNce"
      },
      "source": [
        "# 4.Add <font color='orange'> magnet link/Torrent  <img src='https://libtorrent.org/img/logo-color-text.png' height=\"45\" alt=\"RcloneLab\"/>\n"
      ]
    },
    {
      "cell_type": "code",
      "metadata": {
        "id": "I7-OMxPiw8ms"
      },
      "source": [
        "\n",
        "link = input (\"PASTE Magnet link / Torrent link\")\n",
        "\n",
        "import libtorrent as lt\n",
        "import time\n",
        "import datetime\n",
        "\n",
        "ses = lt.session()\n",
        "ses.listen_on(6881, 6891)\n",
        "params = {\n",
        "    'save_path': './onedrive/downloads/',\n",
        "    'storage_mode': lt.storage_mode_t(2)}\n",
        "\n",
        "print(link)\n",
        "\n",
        "handle = lt.add_magnet_uri(ses, link, params)\n",
        "ses.start_dht()\n",
        "\n",
        "begin = time.time()\n",
        "print(datetime.datetime.now())\n",
        "\n",
        "print ('Downloading Metadata...')\n",
        "while (not handle.has_metadata()):\n",
        "    time.sleep(1)\n",
        "print ('Got Metadata, Starting Torrent Download...')\n",
        "\n",
        "print(\"Starting\", handle.name())\n",
        "\n",
        "while (handle.status().state != lt.torrent_status.seeding):\n",
        "    s = handle.status()\n",
        "    state_str = ['queued', 'checking', 'downloading metadata', \\\n",
        "            'downloading', 'finished', 'seeding', 'allocating']\n",
        "    print ('%.2f%% complete (down: %.1f kb/s up: %.1f kB/s peers: %d) %s ' % \\\n",
        "            (s.progress * 100, s.download_rate / 1000, s.upload_rate / 1000, \\\n",
        "            s.num_peers, state_str[s.state]))\n",
        "    time.sleep(5)\n",
        "\n",
        "end = time.time()\n",
        "print(handle.name(), \"COMPLETE\")\n",
        "\n",
        "print(\"Elapsed Time: \",int((end-begin)//60),\"min :\", int((end-begin)%60), \"sec\")\n",
        "\n",
        "print(datetime.datetime.now())"
      ],
      "execution_count": null,
      "outputs": []
    },
    {
      "cell_type": "markdown",
      "metadata": {
        "id": "VhognXTLjXk7"
      },
      "source": [
        "<img src='https://cdn.dribbble.com/users/2760451/screenshots/5667639/file-transfer.gif' height=\"200\" />\n",
        "\n",
        "✅\n",
        "©️[Mosabbir Maruf](https://bio.link/mosabbir_maruf)\n",
        "\n",
        "\n"
      ]
    }
  ]
}